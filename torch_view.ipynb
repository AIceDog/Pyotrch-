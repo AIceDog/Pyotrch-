{
  "nbformat": 4,
  "nbformat_minor": 0,
  "metadata": {
    "colab": {
      "provenance": [],
      "collapsed_sections": [],
      "authorship_tag": "ABX9TyOnBtdqq5juwG+9UuCWBm8w",
      "include_colab_link": true
    },
    "kernelspec": {
      "name": "python3",
      "display_name": "Python 3"
    },
    "language_info": {
      "name": "python"
    }
  },
  "cells": [
    {
      "cell_type": "markdown",
      "metadata": {
        "id": "view-in-github",
        "colab_type": "text"
      },
      "source": [
        "<a href=\"https://colab.research.google.com/github/AIceDog/Pyotrch-Notes/blob/master/torch_view.ipynb\" target=\"_parent\"><img src=\"https://colab.research.google.com/assets/colab-badge.svg\" alt=\"Open In Colab\"/></a>"
      ]
    },
    {
      "cell_type": "code",
      "execution_count": 1,
      "metadata": {
        "id": "qstsHaXh662h"
      },
      "outputs": [],
      "source": [
        "import torch\n",
        "import numpy as np\n",
        "from numpy import random"
      ]
    },
    {
      "cell_type": "code",
      "source": [
        "test = np.random.randint(0, 10, (5, 3, 17, 2))"
      ],
      "metadata": {
        "id": "4oMD2dSl6-mQ"
      },
      "execution_count": 2,
      "outputs": []
    },
    {
      "cell_type": "code",
      "source": [
        "print('test.shape : ', test.shape)\n",
        "print('test.shape[:3] : ', test.shape[:3])"
      ],
      "metadata": {
        "colab": {
          "base_uri": "https://localhost:8080/"
        },
        "id": "XF7GhyHw6-jg",
        "outputId": "d903859a-1b9f-47b2-b8e6-5936f3502b60"
      },
      "execution_count": 4,
      "outputs": [
        {
          "output_type": "stream",
          "name": "stdout",
          "text": [
            "test.shape :  (5, 3, 17, 2)\n",
            "test.shape[:3] :  (5, 3, 17)\n"
          ]
        }
      ]
    },
    {
      "cell_type": "code",
      "source": [
        "_t = torch.from_numpy(test)"
      ],
      "metadata": {
        "id": "qt-PFuby6-gx"
      },
      "execution_count": 6,
      "outputs": []
    },
    {
      "cell_type": "code",
      "source": [
        "(_t.view(_t.shape[0], _t.shape[1], -1)).shape # 34 = 17 x 2"
      ],
      "metadata": {
        "colab": {
          "base_uri": "https://localhost:8080/"
        },
        "id": "YLW8H51p71BG",
        "outputId": "0b89ac38-d676-4331-bc5b-96b47c26506a"
      },
      "execution_count": 7,
      "outputs": [
        {
          "output_type": "execute_result",
          "data": {
            "text/plain": [
              "torch.Size([5, 3, 34])"
            ]
          },
          "metadata": {},
          "execution_count": 7
        }
      ]
    },
    {
      "cell_type": "code",
      "source": [
        "(_t.view(-1, 2)).shape # 255 = 5 x 3 x 17"
      ],
      "metadata": {
        "colab": {
          "base_uri": "https://localhost:8080/"
        },
        "id": "mMaXOuS78Dm8",
        "outputId": "5dbd4390-62d2-4cb3-92f0-e0366ea6562d"
      },
      "execution_count": 8,
      "outputs": [
        {
          "output_type": "execute_result",
          "data": {
            "text/plain": [
              "torch.Size([255, 2])"
            ]
          },
          "metadata": {},
          "execution_count": 8
        }
      ]
    },
    {
      "cell_type": "code",
      "source": [
        "(_t.view(-1, 17)).shape # 30 = 5 x 3 x 2"
      ],
      "metadata": {
        "colab": {
          "base_uri": "https://localhost:8080/"
        },
        "id": "AbV9yTsr8Iun",
        "outputId": "23ce6438-fc7a-476f-d3b7-d991c37e7c5c"
      },
      "execution_count": 9,
      "outputs": [
        {
          "output_type": "execute_result",
          "data": {
            "text/plain": [
              "torch.Size([30, 17])"
            ]
          },
          "metadata": {},
          "execution_count": 9
        }
      ]
    }
  ]
}