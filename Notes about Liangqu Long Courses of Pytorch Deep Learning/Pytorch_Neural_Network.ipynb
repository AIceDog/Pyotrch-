{
  "nbformat": 4,
  "nbformat_minor": 0,
  "metadata": {
    "colab": {
      "name": "Pytorch_Neural Network.ipynb",
      "provenance": [],
      "collapsed_sections": [],
      "authorship_tag": "ABX9TyNiNf5roX4MwFIWdN3XHnNF",
      "include_colab_link": true
    },
    "kernelspec": {
      "name": "python3",
      "display_name": "Python 3"
    },
    "language_info": {
      "name": "python"
    }
  },
  "cells": [
    {
      "cell_type": "markdown",
      "metadata": {
        "id": "view-in-github",
        "colab_type": "text"
      },
      "source": [
        "<a href=\"https://colab.research.google.com/github/AIceDog/Pyotrch-/blob/master/Notes%20about%20Liangqu%20Long%20Courses%20of%20Pytorch%20Deep%20Learning/Pytorch_Neural_Network.ipynb\" target=\"_parent\"><img src=\"https://colab.research.google.com/assets/colab-badge.svg\" alt=\"Open In Colab\"/></a>"
      ]
    },
    {
      "cell_type": "code",
      "source": [
        "!pip install torch"
      ],
      "metadata": {
        "colab": {
          "base_uri": "https://localhost:8080/"
        },
        "id": "bQ6meVdNd0rn",
        "outputId": "d981731d-2471-44dd-cdf4-b7c1ecabdccc"
      },
      "execution_count": 2,
      "outputs": [
        {
          "output_type": "stream",
          "name": "stdout",
          "text": [
            "Requirement already satisfied: torch in /usr/local/lib/python3.7/dist-packages (1.11.0+cu113)\n",
            "Requirement already satisfied: typing-extensions in /usr/local/lib/python3.7/dist-packages (from torch) (4.2.0)\n"
          ]
        }
      ]
    },
    {
      "cell_type": "code",
      "source": [
        "import torch\n",
        "import torch.nn as nn\n",
        "import torch.nn.functional as F"
      ],
      "metadata": {
        "id": "NrSABFk3fPvs"
      },
      "execution_count": 34,
      "outputs": []
    },
    {
      "cell_type": "markdown",
      "source": [
        "# Notes of Liangqu Long's Pytorch Course"
      ],
      "metadata": {
        "id": "tHJEI1aNku6n"
      }
    },
    {
      "cell_type": "code",
      "execution_count": 23,
      "metadata": {
        "id": "s-6QEolfj12s"
      },
      "outputs": [],
      "source": [
        "layer = nn.Conv2d(in_channels = 1, out_channels = 3, kernel_size = 3, stride = 1, padding = 0)   # 这是创建了一个类的对象 layer\n",
        "# 如果写成 F.conv2d(...) 则表示调用了函数, pyotrch 中开头小写表示调用函数，开头大写表示调用类"
      ]
    },
    {
      "cell_type": "markdown",
      "source": [
        "nn.Conv2d(1, 3, kernel_size = 3, stride = 1, padding = 0)\n",
        "参数解读:\n",
        "\n",
        "*   in_channels 是输入图片的 channel, 这里 in_channels = 1, 输入图片的 channel 是1, 比如 [b(图片数量), 1(in_channels = 1, 图片 channel 是 1, 表示该图片为灰度图), 28(图片的宽), 28(图片的高)]\n",
        "*   out_channels 是输出图片的 channel, 这里 out_channels = 3, 输出图片的 channel 是 3, 输出图片的 dimension 是[b(图片数量), 3(in_channels = 1, 图片 channel 是 1, 表示该图片为灰度图), new width, new hight]\n",
        "*   kernel_size 是 kernel 的宽和高\n",
        "*   stride 是步长\n",
        "*   如果 padding 是 0, 输入图片的宽高不变, 如果 padding 是 1, 输入图片的宽高向外扩张 1 像素\n",
        "\n",
        "\n",
        "\n",
        "\n",
        "\n",
        "\n",
        "\n",
        "\n",
        "\n"
      ],
      "metadata": {
        "id": "TOELHnqBgqZn"
      }
    },
    {
      "cell_type": "code",
      "source": [
        "x = torch.rand(5, 1, 28, 28)   # 设置输入图片, 输入图片数量是 5, channel 是 1, 宽和高都是 28"
      ],
      "metadata": {
        "id": "-6_0UUn4gkpU"
      },
      "execution_count": 24,
      "outputs": []
    },
    {
      "cell_type": "code",
      "source": [
        "out = layer.forward(x)   # 完成一次卷积的前向运算, 输入图片是 x\n",
        "out.shape   # output 是 torch.Size([5, 3, 26, 26)]"
      ],
      "metadata": {
        "colab": {
          "base_uri": "https://localhost:8080/"
        },
        "id": "rVdFzuac3euK",
        "outputId": "57623786-f063-431d-930b-6319f3489066"
      },
      "execution_count": 25,
      "outputs": [
        {
          "output_type": "execute_result",
          "data": {
            "text/plain": [
              "torch.Size([5, 3, 26, 26])"
            ]
          },
          "metadata": {},
          "execution_count": 25
        }
      ]
    },
    {
      "cell_type": "code",
      "source": [
        "out = layer(x)   # 完成一次卷积的前向运算, 不过会先运行 hooks, 再运行 .forward 函数"
      ],
      "metadata": {
        "id": "1S8GcIrI3vIs"
      },
      "execution_count": 26,
      "outputs": []
    },
    {
      "cell_type": "code",
      "source": [
        "layer.weight # 输出类 layer 的成员变量 weight, 如果 require_grad = True, 则在 backpropag 过程中 layer.weight 会自动更新"
      ],
      "metadata": {
        "colab": {
          "base_uri": "https://localhost:8080/"
        },
        "id": "5cYqnDTp30vD",
        "outputId": "6dfd3d54-d217-4932-b09d-d7de149416ba"
      },
      "execution_count": 27,
      "outputs": [
        {
          "output_type": "execute_result",
          "data": {
            "text/plain": [
              "Parameter containing:\n",
              "tensor([[[[ 0.0222, -0.2606,  0.2142],\n",
              "          [ 0.1655, -0.1406,  0.0146],\n",
              "          [ 0.2366, -0.0292, -0.2279]]],\n",
              "\n",
              "\n",
              "        [[[-0.1309, -0.3128, -0.3016],\n",
              "          [-0.0023, -0.1856,  0.2907],\n",
              "          [ 0.1366, -0.2327, -0.1235]]],\n",
              "\n",
              "\n",
              "        [[[-0.0491, -0.1626, -0.2877],\n",
              "          [ 0.2256,  0.2440, -0.2016],\n",
              "          [ 0.3067,  0.2957, -0.2888]]]], requires_grad=True)"
            ]
          },
          "metadata": {},
          "execution_count": 27
        }
      ]
    },
    {
      "cell_type": "code",
      "source": [
        "layer.weight.shape   # 3 个 kernel, 每个 kernel 维度是 [1, 3, 3]"
      ],
      "metadata": {
        "colab": {
          "base_uri": "https://localhost:8080/"
        },
        "id": "YAd224Z-4MHj",
        "outputId": "0a7553ac-4dec-474b-eecb-ff03bd60e66d"
      },
      "execution_count": 28,
      "outputs": [
        {
          "output_type": "execute_result",
          "data": {
            "text/plain": [
              "torch.Size([3, 1, 3, 3])"
            ]
          },
          "metadata": {},
          "execution_count": 28
        }
      ]
    },
    {
      "cell_type": "code",
      "source": [
        "layer.bias.shape"
      ],
      "metadata": {
        "colab": {
          "base_uri": "https://localhost:8080/"
        },
        "id": "3poe7xH34J8j",
        "outputId": "be8f3d79-a17b-438f-a951-63e6d5fa7c7d"
      },
      "execution_count": 29,
      "outputs": [
        {
          "output_type": "execute_result",
          "data": {
            "text/plain": [
              "torch.Size([3])"
            ]
          },
          "metadata": {},
          "execution_count": 29
        }
      ]
    },
    {
      "cell_type": "markdown",
      "source": [
        "# layer = nn.Conv2d(3, 16, kernel_size = 5, stride = 1, padding = 0) 的另一种写法"
      ],
      "metadata": {
        "id": "MZ0HbeDf48fs"
      }
    },
    {
      "cell_type": "code",
      "source": [
        "x = torch.rand(5, 3, 28, 28)   # 输入图片 x, [5(图片数量), 3(图片channel是3, 表示该图片为rgb图), 28(图片的宽), 28(图片的高)]"
      ],
      "metadata": {
        "id": "kJtcsnNe4-cy"
      },
      "execution_count": 30,
      "outputs": []
    },
    {
      "cell_type": "code",
      "source": [
        "w = torch.rand(16, 3, 5, 5)   # layer.weight"
      ],
      "metadata": {
        "id": "5ZoUAtXP5GJ9"
      },
      "execution_count": 31,
      "outputs": []
    },
    {
      "cell_type": "code",
      "source": [
        "b = torch.rand(16)   # layer.bias"
      ],
      "metadata": {
        "id": "gkPsqKC15LzZ"
      },
      "execution_count": 32,
      "outputs": []
    },
    {
      "cell_type": "code",
      "source": [
        "out = F.conv2d(x, w, b, stride = 1, padding = 1)"
      ],
      "metadata": {
        "id": "Rjg1JsB-5Odj"
      },
      "execution_count": 35,
      "outputs": []
    }
  ]
}