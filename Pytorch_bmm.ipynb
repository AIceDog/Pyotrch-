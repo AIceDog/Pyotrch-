{
  "nbformat": 4,
  "nbformat_minor": 0,
  "metadata": {
    "colab": {
      "provenance": [],
      "authorship_tag": "ABX9TyMVomOQedjs6PUl9wY8Nmnq",
      "include_colab_link": true
    },
    "kernelspec": {
      "name": "python3",
      "display_name": "Python 3"
    },
    "language_info": {
      "name": "python"
    }
  },
  "cells": [
    {
      "cell_type": "markdown",
      "metadata": {
        "id": "view-in-github",
        "colab_type": "text"
      },
      "source": [
        "<a href=\"https://colab.research.google.com/github/AIceDog/Pyotrch-Notes/blob/master/Pytorch_bmm.ipynb\" target=\"_parent\"><img src=\"https://colab.research.google.com/assets/colab-badge.svg\" alt=\"Open In Colab\"/></a>"
      ]
    },
    {
      "cell_type": "code",
      "execution_count": 2,
      "metadata": {
        "colab": {
          "base_uri": "https://localhost:8080/"
        },
        "id": "T_7Mlf2GdlvA",
        "outputId": "e2c69d5e-3890-4763-fb70-242b0ff41bb0"
      },
      "outputs": [
        {
          "output_type": "stream",
          "name": "stdout",
          "text": [
            "First input matrix - \n",
            " tensor([[[-1.1108, -0.4713,  0.2567],\n",
            "         [-1.9131,  0.4476, -1.9099],\n",
            "         [ 1.4592, -0.8361,  0.6711]],\n",
            "\n",
            "        [[-1.3722,  0.3043,  0.5788],\n",
            "         [-0.4712,  0.8222,  0.6162],\n",
            "         [-0.9875, -1.2292, -0.5379]]])\n",
            "\n",
            "Second input matrix - \n",
            " tensor([[[ 1.7958, -0.1196, -0.7332, -0.8894],\n",
            "         [ 0.3633,  0.4796,  0.5263,  1.3257],\n",
            "         [ 1.4008,  0.5024,  1.3178,  0.7504]],\n",
            "\n",
            "        [[ 1.1753, -1.7787, -1.0606, -0.3914],\n",
            "         [ 0.1616, -0.3574, -0.0459, -0.2158],\n",
            "         [ 0.5126,  0.3174, -0.0770,  0.1901]]])\n",
            "\n",
            "Resultant output matrix - \n",
            " tensor([[[-1.8064,  0.0358,  0.9047,  0.5559],\n",
            "         [-5.9484, -0.5159, -0.8786,  0.8618],\n",
            "         [ 3.2568, -0.2384, -0.6255, -1.9026]],\n",
            "\n",
            "        [[-1.2670,  2.5158,  1.3969,  0.5815],\n",
            "         [-0.1052,  0.7399,  0.4146,  0.1242],\n",
            "         [-1.6349,  2.0250,  1.1452,  0.5495]]])\n"
          ]
        }
      ],
      "source": [
        "import torch\n",
        "#We will take two matrices of 3 dimensional size which are to be multiplied\n",
        "m1 = torch.randn(2, 3, 3)\n",
        "m2 = torch.randn(2, 3, 4)\n",
        "print(\"1st input matrix - \\n\",m1)\n",
        "print(\"\\n2nd input matrix - \\n\",m2)\n",
        "print(\"\\nResultant output matrix - \\n\",torch.bmm(m1,m2))"
      ]
    },
    {
      "cell_type": "code",
      "source": [
        "m11 = m1[0]\n",
        "m21 = m2[0]\n",
        "print(\"1st sub matrix of m1 - \\n\", m11)\n",
        "print(\"\\n1st sub matrix of m2 - \\n\", m21)\n",
        "print(\"\\nResultant output matrix of m11 * m21 - \\n\", torch.mm(m11, m21))"
      ],
      "metadata": {
        "colab": {
          "base_uri": "https://localhost:8080/"
        },
        "id": "SgiJ1utceB2P",
        "outputId": "78fbbb09-523b-4ee5-fcf5-1971500180b5"
      },
      "execution_count": 9,
      "outputs": [
        {
          "output_type": "stream",
          "name": "stdout",
          "text": [
            "1st sub matrix of m1 - \n",
            " tensor([[-1.1108, -0.4713,  0.2567],\n",
            "        [-1.9131,  0.4476, -1.9099],\n",
            "        [ 1.4592, -0.8361,  0.6711]])\n",
            "\n",
            "1st sub matrix of m2 - \n",
            " tensor([[ 1.7958, -0.1196, -0.7332, -0.8894],\n",
            "        [ 0.3633,  0.4796,  0.5263,  1.3257],\n",
            "        [ 1.4008,  0.5024,  1.3178,  0.7504]])\n",
            "\n",
            "Resultant output matrix of m11 * m21 - \n",
            " tensor([[-1.8064,  0.0358,  0.9047,  0.5559],\n",
            "        [-5.9484, -0.5159, -0.8786,  0.8618],\n",
            "        [ 3.2568, -0.2384, -0.6255, -1.9026]])\n"
          ]
        }
      ]
    },
    {
      "cell_type": "code",
      "source": [
        "m12 = m1[1]\n",
        "m22 = m2[1]\n",
        "print(\"2nd sub matrix of m1 - \\n\", m12)\n",
        "print(\"\\n2nd sub matrix of m2 - \\n\", m22)\n",
        "print(\"\\nResultant output matrix of m12 * m22 - \\n\", torch.mm(m12, m22))"
      ],
      "metadata": {
        "colab": {
          "base_uri": "https://localhost:8080/"
        },
        "id": "-_Qr9RHle9Js",
        "outputId": "d65de228-d2d1-48f2-fb9f-04d879e242f6"
      },
      "execution_count": 10,
      "outputs": [
        {
          "output_type": "stream",
          "name": "stdout",
          "text": [
            "2nd sub matrix of m1 - \n",
            " tensor([[-1.3722,  0.3043,  0.5788],\n",
            "        [-0.4712,  0.8222,  0.6162],\n",
            "        [-0.9875, -1.2292, -0.5379]])\n",
            "\n",
            "2nd sub matrix of m2 - \n",
            " tensor([[ 1.1753, -1.7787, -1.0606, -0.3914],\n",
            "        [ 0.1616, -0.3574, -0.0459, -0.2158],\n",
            "        [ 0.5126,  0.3174, -0.0770,  0.1901]])\n",
            "\n",
            "Resultant output matrix of m12 * m22 - \n",
            " tensor([[-1.2670,  2.5158,  1.3969,  0.5815],\n",
            "        [-0.1052,  0.7399,  0.4146,  0.1242],\n",
            "        [-1.6349,  2.0250,  1.1452,  0.5495]])\n"
          ]
        }
      ]
    }
  ]
}