{
  "nbformat": 4,
  "nbformat_minor": 0,
  "metadata": {
    "colab": {
      "name": "Pytorch-DataLoader.ipynb",
      "provenance": [],
      "collapsed_sections": [],
      "authorship_tag": "ABX9TyO87P5u5ivnH8iCvBV/qpz1",
      "include_colab_link": true
    },
    "kernelspec": {
      "name": "python3",
      "display_name": "Python 3"
    },
    "language_info": {
      "name": "python"
    }
  },
  "cells": [
    {
      "cell_type": "markdown",
      "metadata": {
        "id": "view-in-github",
        "colab_type": "text"
      },
      "source": [
        "<a href=\"https://colab.research.google.com/github/AIceDog/Pyotrch-Notes/blob/master/Pytorch_DataLoader.ipynb\" target=\"_parent\"><img src=\"https://colab.research.google.com/assets/colab-badge.svg\" alt=\"Open In Colab\"/></a>"
      ]
    },
    {
      "cell_type": "code",
      "source": [
        "import math\n",
        "import numpy as np\n",
        "import torch\n",
        "import torch.nn as nn"
      ],
      "metadata": {
        "id": "pFxl4QblABSj"
      },
      "execution_count": 1,
      "outputs": []
    },
    {
      "cell_type": "code",
      "execution_count": 2,
      "metadata": {
        "colab": {
          "base_uri": "https://localhost:8080/"
        },
        "id": "t8bhnSUK_29i",
        "outputId": "0a410967-5a9e-4e58-806c-b6abb99f2a00"
      },
      "outputs": [
        {
          "output_type": "stream",
          "name": "stdout",
          "text": [
            "input :  [[[5, 1, 4, 2, 7], [8, 5, 3, 2, 8], [8, 5, 1, 5, 0]], [[2, 0, 0, 3, 0], [4, 1, 5, 0, 3], [0, 6, 5, 0, 3]], [[0, 0, 1, 8, 6], [6, 2, 2, 8, 7], [0, 8, 0, 5, 2]], [[3, 8, 6, 1, 5], [1, 2, 6, 2, 2], [0, 4, 5, 3, 8]], [[6, 0, 7, 7, 4], [0, 0, 5, 8, 3], [6, 0, 0, 7, 3]], [[8, 0, 6, 4, 3], [3, 3, 0, 6, 0], [0, 2, 6, 5, 6]], [[7, 2, 1, 6, 5], [6, 0, 2, 4, 3], [3, 3, 8, 5, 8]]]\n"
          ]
        }
      ],
      "source": [
        "input_raw = [[[5, 1, 4, 2, 7], \n",
        "              [8, 5, 3, 2, 8], \n",
        "              [8, 5, 1, 5, 0]],\n",
        "          \n",
        "             [[2, 0, 0, 3, 0], \n",
        "              [4, 1, 5, 0, 3], \n",
        "              [0, 6, 5, 0, 3]], \n",
        "         \n",
        "             [[0, 0, 1, 8, 6], \n",
        "              [6, 2, 2, 8, 7], \n",
        "              [0, 8, 0, 5, 2]], \n",
        "         \n",
        "             [[3, 8, 6, 1, 5], \n",
        "              [1, 2, 6, 2, 2], \n",
        "              [0, 4, 5, 3, 8]], \n",
        "         \n",
        "             [[6, 0, 7, 7, 4], \n",
        "              [0, 0, 5, 8, 3], \n",
        "              [6, 0, 0, 7, 3]], \n",
        "         \n",
        "             [[8, 0, 6, 4, 3], \n",
        "              [3, 3, 0, 6, 0], \n",
        "              [0, 2, 6, 5, 6]], \n",
        "\n",
        "             [[7, 2, 1, 6, 5], \n",
        "              [6, 0, 2, 4, 3], \n",
        "              [3, 3, 8, 5, 8]]]\n",
        "print('input : ', input_raw)"
      ]
    },
    {
      "cell_type": "code",
      "source": [
        "input = torch.tensor(input_raw, dtype=torch.float)\n",
        "print('input : ', input)"
      ],
      "metadata": {
        "colab": {
          "base_uri": "https://localhost:8080/"
        },
        "id": "hHC51wIIADKU",
        "outputId": "10661f79-8f48-42d5-9eea-e1f67acf8ed2"
      },
      "execution_count": 3,
      "outputs": [
        {
          "output_type": "stream",
          "name": "stdout",
          "text": [
            "input :  tensor([[[5., 1., 4., 2., 7.],\n",
            "         [8., 5., 3., 2., 8.],\n",
            "         [8., 5., 1., 5., 0.]],\n",
            "\n",
            "        [[2., 0., 0., 3., 0.],\n",
            "         [4., 1., 5., 0., 3.],\n",
            "         [0., 6., 5., 0., 3.]],\n",
            "\n",
            "        [[0., 0., 1., 8., 6.],\n",
            "         [6., 2., 2., 8., 7.],\n",
            "         [0., 8., 0., 5., 2.]],\n",
            "\n",
            "        [[3., 8., 6., 1., 5.],\n",
            "         [1., 2., 6., 2., 2.],\n",
            "         [0., 4., 5., 3., 8.]],\n",
            "\n",
            "        [[6., 0., 7., 7., 4.],\n",
            "         [0., 0., 5., 8., 3.],\n",
            "         [6., 0., 0., 7., 3.]],\n",
            "\n",
            "        [[8., 0., 6., 4., 3.],\n",
            "         [3., 3., 0., 6., 0.],\n",
            "         [0., 2., 6., 5., 6.]],\n",
            "\n",
            "        [[7., 2., 1., 6., 5.],\n",
            "         [6., 0., 2., 4., 3.],\n",
            "         [3., 3., 8., 5., 8.]]])\n"
          ]
        }
      ]
    },
    {
      "cell_type": "code",
      "source": [
        "training_loader = torch.utils.data.DataLoader(input, batch_size=3, shuffle=False, num_workers=1) "
      ],
      "metadata": {
        "id": "5URv1dDQAFil"
      },
      "execution_count": 4,
      "outputs": []
    },
    {
      "cell_type": "code",
      "source": [
        "num = 0\n",
        "for i, data in enumerate(training_loader):\n",
        "  print('i : ', i)\n",
        "  print('data : ', data)\n",
        "  print()\n",
        "  num += 1\n",
        "\n",
        "print('batch number : ', num)"
      ],
      "metadata": {
        "colab": {
          "base_uri": "https://localhost:8080/"
        },
        "id": "i2ftAkWfAHSG",
        "outputId": "ede40173-05d4-4f01-e3d0-31e1388b7b2b"
      },
      "execution_count": 5,
      "outputs": [
        {
          "output_type": "stream",
          "name": "stdout",
          "text": [
            "i :  0\n",
            "data :  tensor([[[5., 1., 4., 2., 7.],\n",
            "         [8., 5., 3., 2., 8.],\n",
            "         [8., 5., 1., 5., 0.]],\n",
            "\n",
            "        [[2., 0., 0., 3., 0.],\n",
            "         [4., 1., 5., 0., 3.],\n",
            "         [0., 6., 5., 0., 3.]],\n",
            "\n",
            "        [[0., 0., 1., 8., 6.],\n",
            "         [6., 2., 2., 8., 7.],\n",
            "         [0., 8., 0., 5., 2.]]])\n",
            "\n",
            "i :  1\n",
            "data :  tensor([[[3., 8., 6., 1., 5.],\n",
            "         [1., 2., 6., 2., 2.],\n",
            "         [0., 4., 5., 3., 8.]],\n",
            "\n",
            "        [[6., 0., 7., 7., 4.],\n",
            "         [0., 0., 5., 8., 3.],\n",
            "         [6., 0., 0., 7., 3.]],\n",
            "\n",
            "        [[8., 0., 6., 4., 3.],\n",
            "         [3., 3., 0., 6., 0.],\n",
            "         [0., 2., 6., 5., 6.]]])\n",
            "\n",
            "i :  2\n",
            "data :  tensor([[[7., 2., 1., 6., 5.],\n",
            "         [6., 0., 2., 4., 3.],\n",
            "         [3., 3., 8., 5., 8.]]])\n",
            "\n",
            "batch number :  3\n"
          ]
        }
      ]
    }
  ]
}