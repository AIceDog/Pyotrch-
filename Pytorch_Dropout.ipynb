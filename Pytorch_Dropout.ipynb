{
  "nbformat": 4,
  "nbformat_minor": 0,
  "metadata": {
    "colab": {
      "name": "Pytorch-Dropout.ipynb",
      "provenance": [],
      "authorship_tag": "ABX9TyP9FtFohKsWiHMNvb5SpUhd",
      "include_colab_link": true
    },
    "kernelspec": {
      "name": "python3",
      "display_name": "Python 3"
    },
    "language_info": {
      "name": "python"
    }
  },
  "cells": [
    {
      "cell_type": "markdown",
      "metadata": {
        "id": "view-in-github",
        "colab_type": "text"
      },
      "source": [
        "<a href=\"https://colab.research.google.com/github/AIceDog/Pyotrch-Notes/blob/master/Pytorch_Dropout.ipynb\" target=\"_parent\"><img src=\"https://colab.research.google.com/assets/colab-badge.svg\" alt=\"Open In Colab\"/></a>"
      ]
    },
    {
      "cell_type": "code",
      "execution_count": 13,
      "metadata": {
        "id": "9X2eI4tVatLW"
      },
      "outputs": [],
      "source": [
        "test_list = [1,2,3,4,5,6,7,8,9,10,11,12,13,14,15]"
      ]
    },
    {
      "cell_type": "code",
      "source": [
        "test_list[::3]"
      ],
      "metadata": {
        "colab": {
          "base_uri": "https://localhost:8080/"
        },
        "id": "oEEZxTEbaw5J",
        "outputId": "7dfa1f84-87eb-4eba-ce86-aaaac7769766"
      },
      "execution_count": 14,
      "outputs": [
        {
          "output_type": "execute_result",
          "data": {
            "text/plain": [
              "[1, 4, 7, 10, 13]"
            ]
          },
          "metadata": {},
          "execution_count": 14
        }
      ]
    },
    {
      "cell_type": "code",
      "source": [
        "import torch\n",
        "import torch.nn as nn"
      ],
      "metadata": {
        "id": "vazc0lsGgs_R"
      },
      "execution_count": 15,
      "outputs": []
    },
    {
      "cell_type": "code",
      "source": [
        "_dropout = nn.Dropout(p=0.5)\n",
        "_dropout"
      ],
      "metadata": {
        "colab": {
          "base_uri": "https://localhost:8080/"
        },
        "id": "VgxT1v4lgvBk",
        "outputId": "3e809b1a-9984-4928-e9c2-0735788765df"
      },
      "execution_count": 16,
      "outputs": [
        {
          "output_type": "execute_result",
          "data": {
            "text/plain": [
              "Dropout(p=0.5, inplace=False)"
            ]
          },
          "metadata": {},
          "execution_count": 16
        }
      ]
    },
    {
      "cell_type": "code",
      "source": [
        "input = torch.randn(5, 4)\n",
        "print(input)"
      ],
      "metadata": {
        "colab": {
          "base_uri": "https://localhost:8080/"
        },
        "id": "aaJlDhxigx63",
        "outputId": "ac763297-42aa-41ba-955d-f86e16cee373"
      },
      "execution_count": 17,
      "outputs": [
        {
          "output_type": "stream",
          "name": "stdout",
          "text": [
            "tensor([[-0.7643,  2.5300,  0.7493, -1.3112],\n",
            "        [ 0.2484,  0.5167, -0.2944, -0.0596],\n",
            "        [ 0.7739,  1.6974,  1.1917, -2.7822],\n",
            "        [ 1.7316, -1.6096,  2.5905,  0.4384],\n",
            "        [ 0.1549, -1.3497,  0.0636,  1.7830]])\n"
          ]
        }
      ]
    },
    {
      "cell_type": "code",
      "source": [
        "output = _dropout(input)\n",
        "print(output)"
      ],
      "metadata": {
        "colab": {
          "base_uri": "https://localhost:8080/"
        },
        "id": "VZfnGymxgx9m",
        "outputId": "c904dea1-a20f-408f-b38d-cb4f74a12d14"
      },
      "execution_count": 18,
      "outputs": [
        {
          "output_type": "stream",
          "name": "stdout",
          "text": [
            "tensor([[-1.5286,  5.0601,  1.4986, -2.6224],\n",
            "        [ 0.0000,  1.0334, -0.0000, -0.1192],\n",
            "        [ 1.5478,  3.3947,  2.3834, -0.0000],\n",
            "        [ 0.0000, -3.2191,  5.1810,  0.8768],\n",
            "        [ 0.0000, -0.0000,  0.0000,  3.5660]])\n"
          ]
        }
      ]
    }
  ]
}